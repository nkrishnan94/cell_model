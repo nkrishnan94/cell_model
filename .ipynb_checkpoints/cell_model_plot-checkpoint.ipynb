{
 "cells": [
  {
   "cell_type": "code",
   "execution_count": 237,
   "metadata": {},
   "outputs": [],
   "source": [
    "import numpy as np\n",
    "import glob\n",
    "import os\n",
    "import matplotlib.pyplot as plt\n",
    "\n",
    "from mpl_toolkits.mplot3d import Axes3D  # noqa: F401 unused import\n",
    "\n",
    "import matplotlib.pyplot as plt\n",
    "import numpy as np"
   ]
  },
  {
   "cell_type": "code",
   "execution_count": 238,
   "metadata": {},
   "outputs": [],
   "source": [
    "files=glob.glob(\"prof_T*.txt\")"
   ]
  },
  {
   "cell_type": "code",
   "execution_count": 239,
   "metadata": {},
   "outputs": [],
   "source": [
    "nums=[]\n",
    "for f in files:\n",
    "    nums.append(int(f.split(\"T_\")[1].split(\"_\")[0]))\n",
    "    \n",
    "files =np.array(files)[np.argsort(nums)]"
   ]
  },
  {
   "cell_type": "code",
   "execution_count": 240,
   "metadata": {},
   "outputs": [],
   "source": [
    "arr = np.loadtxt(files[-1],delimiter=\", \")"
   ]
  },
  {
   "cell_type": "code",
   "execution_count": null,
   "metadata": {},
   "outputs": [],
   "source": [
    "\n",
    "\n",
    "fig = plt.figure()\n",
    "ax = fig.add_subplot(111, projection='3d')\n",
    "\n",
    "n = 100\n",
    "\n",
    "# For each set of style and range settings, plot n random points in the box\n",
    "# defined by x in [23, 32], y in [0, 100], z in [zlow, zhigh].\n",
    "for m in arr:\n",
    "    ax.scatter(*m[1:4],s= (m[4]*2.5)**2,c='k')\n",
    "\n",
    "ax.set_xlabel('X Label')\n",
    "ax.set_ylabel('Y Label')\n",
    "ax.set_zlabel('Z Label')\n",
    "ax.set_xlim([0,90])\n",
    "ax.set_ylim([0,720])\n",
    "\n",
    "ax.set_zlim([0,360])\n",
    "plt.show()\n"
   ]
  },
  {
   "cell_type": "code",
   "execution_count": 201,
   "metadata": {},
   "outputs": [],
   "source": [
    "ax.scatter?"
   ]
  },
  {
   "cell_type": "code",
   "execution_count": 242,
   "metadata": {},
   "outputs": [
    {
     "data": {
      "text/plain": [
       "array([[0.00000e+00, 6.42900e+00, 1.03120e+01, 2.76000e+00, 4.12500e+00],\n",
       "       [1.00000e+00, 1.92860e+01, 1.03120e+01, 5.56500e+00, 4.12500e+00],\n",
       "       [2.00000e+00, 3.21430e+01, 1.03120e+01, 6.10000e-01, 4.12500e+00],\n",
       "       ...,\n",
       "       [5.39700e+03, 4.50000e+01, 6.96522e+02, 2.86068e+02, 4.12500e+00],\n",
       "       [5.39800e+03, 5.78570e+01, 6.96522e+02, 2.97870e+02, 4.12500e+00],\n",
       "       [5.39900e+03, 7.07140e+01, 6.96522e+02, 2.86405e+02, 4.12500e+00]])"
      ]
     },
     "execution_count": 242,
     "metadata": {},
     "output_type": "execute_result"
    }
   ],
   "source": [
    "arr"
   ]
  },
  {
   "cell_type": "code",
   "execution_count": 236,
   "metadata": {},
   "outputs": [
    {
     "data": {
      "text/plain": [
       "array([[  0.   ,   1.029,   2.26 ,   4.667,   4.125],\n",
       "       [  1.   ,  18.069,   1.312,   5.708,   4.125],\n",
       "       [  2.   ,  34.905,   2.584,   5.838,   4.125],\n",
       "       ...,\n",
       "       [997.   , 110.793, 141.876, 143.432,   4.125],\n",
       "       [998.   , 127.103, 144.748, 144.787,   4.125],\n",
       "       [999.   , 145.047, 145.618, 142.735,   4.125]])"
      ]
     },
     "execution_count": 236,
     "metadata": {},
     "output_type": "execute_result"
    }
   ],
   "source": [
    "arr"
   ]
  },
  {
   "cell_type": "code",
   "execution_count": null,
   "metadata": {},
   "outputs": [],
   "source": []
  }
 ],
 "metadata": {
  "kernelspec": {
   "display_name": "Python 3",
   "language": "python",
   "name": "python3"
  },
  "language_info": {
   "codemirror_mode": {
    "name": "ipython",
    "version": 3
   },
   "file_extension": ".py",
   "mimetype": "text/x-python",
   "name": "python",
   "nbconvert_exporter": "python",
   "pygments_lexer": "ipython3",
   "version": "3.7.2"
  }
 },
 "nbformat": 4,
 "nbformat_minor": 2
}
